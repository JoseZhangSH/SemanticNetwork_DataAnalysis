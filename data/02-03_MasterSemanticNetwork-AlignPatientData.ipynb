{
 "cells": [
  {
   "cell_type": "code",
   "execution_count": 1,
   "metadata": {},
   "outputs": [],
   "source": [
    "# 数据处理\n",
    "import pandas as pd\n",
    "import numpy as np\n",
    "import json\n",
    "import csv\n",
    "import random\n",
    "import math\n",
    "from itertools import product\n",
    "\n",
    "\n",
    "# 网络分析与可视化\n",
    "import networkx as nx\n",
    "from networkx.readwrite import json_graph\n",
    "from pyvis import network as net\n",
    "import matplotlib.pyplot as plt\n",
    "import powerlaw # Power laws are probability distributions with the form:p(x)∝x−α"
   ]
  },
  {
   "cell_type": "code",
   "execution_count": 2,
   "metadata": {},
   "outputs": [],
   "source": [
    "with open('02_Graph/MasterConceptNetwork.json') as f:\n",
    "    js_graph = json.load(f)\n",
    "    G_MasterConceptNetwork = json_graph.node_link_graph(js_graph)\n",
    "\n",
    "df_concept_info = pd.read_csv('00_Raw Data/CCFD_concept_info.csv')"
   ]
  },
  {
   "cell_type": "code",
   "execution_count": 3,
   "metadata": {},
   "outputs": [],
   "source": [
    "with open('02_VASystemData/PN_2022-3-9-14-43.json') as f:\n",
    "    PN_result = json.load(f)"
   ]
  },
  {
   "cell_type": "code",
   "execution_count": null,
   "metadata": {},
   "outputs": [],
   "source": [
    "# 处理SFA的数据，确定数据结构，在前端可以呈现出来\n",
    "\n",
    "picture_naming = {\n",
    "    {    \n",
    "        'date':'2022-3-9',\n",
    "        'status':True,\n",
    "        'result':False,\n",
    "        'reaction_time':20,\n",
    "    },\n",
    "    {    \n",
    "        'date':'2022-3-10',\n",
    "        'status':True,\n",
    "        'result':True,\n",
    "        'reaction_time':15,\n",
    "    }\n",
    "}\n",
    "\n",
    "SFA = {\n",
    "    {    \n",
    "        'date':'2022-3-10',\n",
    "        'status':True,\n",
    "        'feature':['你好','很好'],\n",
    "        'feature_count':2,\n",
    "    }\n",
    "}"
   ]
  },
  {
   "cell_type": "code",
   "execution_count": 29,
   "metadata": {},
   "outputs": [],
   "source": [
    "for result in PN_result:\n",
    "    if(result['status']=='checked'):\n",
    "        G_MasterConceptNetwork.nodes[result['name']]['picture_naming_status'] = True\n",
    "        G_MasterConceptNetwork.nodes[result['name']]['picture_naming_result'] = True if result['result']=='success' else False \n",
    "        G_MasterConceptNetwork.nodes[result['name']]['picture_naming_time'] = '%.2f' % (20-result['countdown'])\n",
    "\n",
    "for node in G_MasterConceptNetwork.nodes:\n",
    "    if('picture_naming_status' in G_MasterConceptNetwork.nodes[node].keys()==False):\n",
    "        G_MasterConceptNetwork.nodes[node]['picture_naming_status'] = False"
   ]
  },
  {
   "cell_type": "code",
   "execution_count": 30,
   "metadata": {},
   "outputs": [
    {
     "data": {
      "text/plain": [
       "{'subcategory': '飞机',\n",
       " 'maincategory': '交通工具',\n",
       " 'degree_centrality': 0.0,\n",
       " 'pagerank': 0.027268501607432768,\n",
       " 'closeness_centrality': 0.644083238617558,\n",
       " 'laplacian_centrality': 0.0033917383550788015,\n",
       " 'clustering_coefficent': 0.0,\n",
       " 'cluster': 0,\n",
       " 'betweenness_centrality': 0,\n",
       " 'forceAtalasX': 695.70276,\n",
       " 'forceAtalasY': -1099.0494,\n",
       " 'picture_naming_status': True,\n",
       " 'picture_naming_result': True,\n",
       " 'picture_naming_time': '3.60'}"
      ]
     },
     "execution_count": 30,
     "metadata": {},
     "output_type": "execute_result"
    }
   ],
   "source": [
    "G_MasterConceptNetwork.nodes['航母']"
   ]
  },
  {
   "cell_type": "code",
   "execution_count": 31,
   "metadata": {},
   "outputs": [],
   "source": [
    "# 导出 for G6\n",
    "with open('02_Graph/MasterConceptNetwork_Baseline-Test_G6.json','w+') as f:\n",
    "    f.write(json.dumps(nx.node_link_data(G_MasterConceptNetwork), ensure_ascii=False).replace('links','edges'))\n",
    "\n",
    "# 导出 for networkx\n",
    "with open('02_Graph/MasterConceptNetwork_Baseline-Test.json','w+') as f:\n",
    "    f.write(json.dumps(nx.node_link_data(G_MasterConceptNetwork), ensure_ascii=False))"
   ]
  },
  {
   "cell_type": "code",
   "execution_count": null,
   "metadata": {},
   "outputs": [],
   "source": []
  }
 ],
 "metadata": {
  "interpreter": {
   "hash": "40d3a090f54c6569ab1632332b64b2c03c39dcf918b08424e98f38b5ae0af88f"
  },
  "kernelspec": {
   "display_name": "Python 3.8.8 ('base')",
   "language": "python",
   "name": "python3"
  },
  "language_info": {
   "codemirror_mode": {
    "name": "ipython",
    "version": 3
   },
   "file_extension": ".py",
   "mimetype": "text/x-python",
   "name": "python",
   "nbconvert_exporter": "python",
   "pygments_lexer": "ipython3",
   "version": "3.8.8"
  },
  "orig_nbformat": 4
 },
 "nbformat": 4,
 "nbformat_minor": 2
}
