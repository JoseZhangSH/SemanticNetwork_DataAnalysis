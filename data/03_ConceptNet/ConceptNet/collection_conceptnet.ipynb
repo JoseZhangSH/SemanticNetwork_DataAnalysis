{
 "cells": [
  {
   "cell_type": "code",
   "execution_count": 1,
   "id": "b51e83f4-bc30-40fc-be5e-3fd32754b923",
   "metadata": {
    "execution": {
     "iopub.execute_input": "2022-01-22T05:24:34.146857Z",
     "iopub.status.busy": "2022-01-22T05:24:34.146365Z",
     "iopub.status.idle": "2022-01-22T05:24:34.671546Z",
     "shell.execute_reply": "2022-01-22T05:24:34.670734Z",
     "shell.execute_reply.started": "2022-01-22T05:24:34.146823Z"
    },
    "scrolled": true
   },
   "outputs": [],
   "source": [
    "import pandas as pd\n",
    "import numpy as np\n",
    "import requests"
   ]
  },
  {
   "cell_type": "code",
   "execution_count": 2,
   "id": "8e4ee86c-3cbd-4bc4-bf55-d815656423ae",
   "metadata": {
    "execution": {
     "iopub.execute_input": "2022-01-22T06:06:18.572425Z",
     "iopub.status.busy": "2022-01-22T06:06:18.572022Z",
     "iopub.status.idle": "2022-01-22T06:06:18.584592Z",
     "shell.execute_reply": "2022-01-22T06:06:18.583654Z",
     "shell.execute_reply.started": "2022-01-22T06:06:18.572394Z"
    },
    "scrolled": true
   },
   "outputs": [
    {
     "name": "stdout",
     "output_type": "stream",
     "text": [
      "<class 'pandas.core.frame.DataFrame'>\n",
      "RangeIndex: 23 entries, 0 to 22\n",
      "Data columns (total 3 columns):\n",
      " #   Column   Non-Null Count  Dtype \n",
      "---  ------   --------------  ----- \n",
      " 0   class    23 non-null     object\n",
      " 1   keys_zh  23 non-null     object\n",
      " 2   keys_en  23 non-null     object\n",
      "dtypes: object(3)\n",
      "memory usage: 680.0+ bytes\n"
     ]
    }
   ],
   "source": [
    "# 引入中文分類\n",
    "dim_noun_list = []\n",
    "for line in open('./dim_noun.txt').readlines():\n",
    "    [wd, keys_zh, keys_en] = line.split()\n",
    "    line = {'class':wd,'keys_zh':keys_zh.replace('/','').split(','), 'keys_en':keys_en.replace('/','').split(',')}\n",
    "    dim_noun_list.append(line)\n",
    "\n",
    "dim_noun_pd = pd.DataFrame(dim_noun_list)\n",
    "dim_noun_pd.info()"
   ]
  },
  {
   "cell_type": "code",
   "execution_count": 3,
   "id": "4cf5fa0b-f4d8-464f-9cbe-95d69bd86751",
   "metadata": {
    "execution": {
     "iopub.execute_input": "2022-01-22T05:35:49.252000Z",
     "iopub.status.busy": "2022-01-22T05:35:49.251003Z",
     "iopub.status.idle": "2022-01-22T05:35:49.275393Z",
     "shell.execute_reply": "2022-01-22T05:35:49.274631Z",
     "shell.execute_reply.started": "2022-01-22T05:35:49.251947Z"
    },
    "scrolled": true
   },
   "outputs": [
    {
     "data": {
      "text/html": [
       "<div>\n",
       "<style scoped>\n",
       "    .dataframe tbody tr th:only-of-type {\n",
       "        vertical-align: middle;\n",
       "    }\n",
       "\n",
       "    .dataframe tbody tr th {\n",
       "        vertical-align: top;\n",
       "    }\n",
       "\n",
       "    .dataframe thead th {\n",
       "        text-align: right;\n",
       "    }\n",
       "</style>\n",
       "<table border=\"1\" class=\"dataframe\">\n",
       "  <thead>\n",
       "    <tr style=\"text-align: right;\">\n",
       "      <th></th>\n",
       "      <th>class</th>\n",
       "      <th>keys_zh</th>\n",
       "      <th>keys_en</th>\n",
       "    </tr>\n",
       "  </thead>\n",
       "  <tbody>\n",
       "    <tr>\n",
       "      <th>0</th>\n",
       "      <td>病症</td>\n",
       "      <td>[病症, 病, 症狀]</td>\n",
       "      <td>[illness, symptom]</td>\n",
       "    </tr>\n",
       "    <tr>\n",
       "      <th>1</th>\n",
       "      <td>電子產品</td>\n",
       "      <td>[電子產品]</td>\n",
       "      <td>[electronic_device]</td>\n",
       "    </tr>\n",
       "    <tr>\n",
       "      <th>2</th>\n",
       "      <td>動物</td>\n",
       "      <td>[動物]</td>\n",
       "      <td>[animal]</td>\n",
       "    </tr>\n",
       "    <tr>\n",
       "      <th>3</th>\n",
       "      <td>服裝</td>\n",
       "      <td>[服裝, 衣服]</td>\n",
       "      <td>[clothes]</td>\n",
       "    </tr>\n",
       "    <tr>\n",
       "      <th>4</th>\n",
       "      <td>葷肉</td>\n",
       "      <td>[葷, 肉類]</td>\n",
       "      <td>[meat]</td>\n",
       "    </tr>\n",
       "  </tbody>\n",
       "</table>\n",
       "</div>"
      ],
      "text/plain": [
       "  class      keys_zh              keys_en\n",
       "0    病症  [病症, 病, 症狀]   [illness, symptom]\n",
       "1  電子產品       [電子產品]  [electronic_device]\n",
       "2    動物         [動物]             [animal]\n",
       "3    服裝     [服裝, 衣服]            [clothes]\n",
       "4    葷肉      [葷, 肉類]               [meat]"
      ]
     },
     "execution_count": 3,
     "metadata": {},
     "output_type": "execute_result"
    }
   ],
   "source": [
    "dim_noun_pd.head()"
   ]
  },
  {
   "cell_type": "code",
   "execution_count": 22,
   "id": "14bdd2ec-4260-4547-972d-8fa331ed0cd2",
   "metadata": {
    "execution": {
     "iopub.execute_input": "2022-01-22T05:48:13.731411Z",
     "iopub.status.busy": "2022-01-22T05:48:13.730891Z",
     "iopub.status.idle": "2022-01-22T05:48:13.734828Z",
     "shell.execute_reply": "2022-01-22T05:48:13.734131Z",
     "shell.execute_reply.started": "2022-01-22T05:48:13.731375Z"
    },
    "scrolled": true
   },
   "outputs": [],
   "source": [
    "# 取值標簽\n",
    "# \"label\": \"桌子\",\n",
    "# \"language\": \"zh\",\n",
    "# \"term\": \"/c/zh/桌子\"\n",
    "# {edge -> [weight, start:[label, language, term]]}"
   ]
  },
  {
   "cell_type": "code",
   "execution_count": 4,
   "id": "6fdd3019-503e-4601-8740-b62190489108",
   "metadata": {
    "execution": {
     "iopub.execute_input": "2022-01-22T06:13:11.740738Z",
     "iopub.status.busy": "2022-01-22T06:13:11.739942Z",
     "iopub.status.idle": "2022-01-22T06:13:11.746498Z",
     "shell.execute_reply": "2022-01-22T06:13:11.745881Z",
     "shell.execute_reply.started": "2022-01-22T06:13:11.740702Z"
    },
    "scrolled": true
   },
   "outputs": [],
   "source": [
    "def get_nodes(end_word, lang, rel, limitation=1000):\n",
    "    # save_pd = pd.DataFrame(col=['key', 'relation', 'example', 'language', 'concat', 'weight'])\n",
    "    node_list = []\n",
    "    res_pattern = 'https://api.conceptnet.io/query?end=/c/{}/{}&rel={}&limit={}'\n",
    "    obj = requests.get(res_pattern.format(lang, end_word, rel, limitation)).json()\n",
    "    if len(obj['edges']) > 0:\n",
    "        for node in obj['edges']:\n",
    "            weight = node['weight']\n",
    "            start = node['start']\n",
    "\n",
    "            label = start['label']\n",
    "            lang = start['language']\n",
    "            term = start['term']\n",
    "\n",
    "            node_list.append({\n",
    "                'key': end_word,\n",
    "                'relation': rel,\n",
    "                'example': label,\n",
    "                'language': lang,\n",
    "                'concat': term,\n",
    "                'weight': weight\n",
    "            })\n",
    "\n",
    "    save_pd = pd.DataFrame(node_list)\n",
    "    return save_pd"
   ]
  },
  {
   "cell_type": "code",
   "execution_count": 7,
   "id": "b6d6df1b-32a2-4066-b239-080934c3437e",
   "metadata": {
    "execution": {
     "iopub.execute_input": "2022-01-22T06:01:03.984540Z",
     "iopub.status.busy": "2022-01-22T06:01:03.984141Z",
     "iopub.status.idle": "2022-01-22T06:01:05.636707Z",
     "shell.execute_reply": "2022-01-22T06:01:05.636039Z",
     "shell.execute_reply.started": "2022-01-22T06:01:03.984510Z"
    },
    "scrolled": true
   },
   "outputs": [
    {
     "data": {
      "text/html": [
       "<div>\n",
       "<style scoped>\n",
       "    .dataframe tbody tr th:only-of-type {\n",
       "        vertical-align: middle;\n",
       "    }\n",
       "\n",
       "    .dataframe tbody tr th {\n",
       "        vertical-align: top;\n",
       "    }\n",
       "\n",
       "    .dataframe thead th {\n",
       "        text-align: right;\n",
       "    }\n",
       "</style>\n",
       "<table border=\"1\" class=\"dataframe\">\n",
       "  <thead>\n",
       "    <tr style=\"text-align: right;\">\n",
       "      <th></th>\n",
       "      <th>key</th>\n",
       "      <th>relation</th>\n",
       "      <th>example</th>\n",
       "      <th>language</th>\n",
       "      <th>concat</th>\n",
       "      <th>weight</th>\n",
       "    </tr>\n",
       "  </thead>\n",
       "  <tbody>\n",
       "    <tr>\n",
       "      <th>0</th>\n",
       "      <td>動物</td>\n",
       "      <td>/r/IsA</td>\n",
       "      <td>人</td>\n",
       "      <td>zh</td>\n",
       "      <td>/c/zh/人</td>\n",
       "      <td>15.362291</td>\n",
       "    </tr>\n",
       "    <tr>\n",
       "      <th>1</th>\n",
       "      <td>動物</td>\n",
       "      <td>/r/IsA</td>\n",
       "      <td>貓</td>\n",
       "      <td>zh</td>\n",
       "      <td>/c/zh/貓</td>\n",
       "      <td>15.099669</td>\n",
       "    </tr>\n",
       "    <tr>\n",
       "      <th>2</th>\n",
       "      <td>動物</td>\n",
       "      <td>/r/IsA</td>\n",
       "      <td>狗</td>\n",
       "      <td>zh</td>\n",
       "      <td>/c/zh/狗</td>\n",
       "      <td>14.696938</td>\n",
       "    </tr>\n",
       "    <tr>\n",
       "      <th>3</th>\n",
       "      <td>動物</td>\n",
       "      <td>/r/IsA</td>\n",
       "      <td>小雞</td>\n",
       "      <td>zh</td>\n",
       "      <td>/c/zh/小雞</td>\n",
       "      <td>12.000000</td>\n",
       "    </tr>\n",
       "    <tr>\n",
       "      <th>4</th>\n",
       "      <td>動物</td>\n",
       "      <td>/r/IsA</td>\n",
       "      <td>貓咪</td>\n",
       "      <td>zh</td>\n",
       "      <td>/c/zh/貓咪</td>\n",
       "      <td>10.000000</td>\n",
       "    </tr>\n",
       "    <tr>\n",
       "      <th>...</th>\n",
       "      <td>...</td>\n",
       "      <td>...</td>\n",
       "      <td>...</td>\n",
       "      <td>...</td>\n",
       "      <td>...</td>\n",
       "      <td>...</td>\n",
       "    </tr>\n",
       "    <tr>\n",
       "      <th>108</th>\n",
       "      <td>動物</td>\n",
       "      <td>/r/IsA</td>\n",
       "      <td>無尾熊</td>\n",
       "      <td>zh</td>\n",
       "      <td>/c/zh/無尾熊</td>\n",
       "      <td>1.000000</td>\n",
       "    </tr>\n",
       "    <tr>\n",
       "      <th>109</th>\n",
       "      <td>動物</td>\n",
       "      <td>/r/IsA</td>\n",
       "      <td>女性</td>\n",
       "      <td>zh</td>\n",
       "      <td>/c/zh/女性</td>\n",
       "      <td>1.000000</td>\n",
       "    </tr>\n",
       "    <tr>\n",
       "      <th>110</th>\n",
       "      <td>動物</td>\n",
       "      <td>/r/IsA</td>\n",
       "      <td>黃金鼠</td>\n",
       "      <td>zh</td>\n",
       "      <td>/c/zh/黃金鼠</td>\n",
       "      <td>1.000000</td>\n",
       "    </tr>\n",
       "    <tr>\n",
       "      <th>111</th>\n",
       "      <td>動物</td>\n",
       "      <td>/r/IsA</td>\n",
       "      <td>你</td>\n",
       "      <td>zh</td>\n",
       "      <td>/c/zh/你</td>\n",
       "      <td>1.000000</td>\n",
       "    </tr>\n",
       "    <tr>\n",
       "      <th>112</th>\n",
       "      <td>動物</td>\n",
       "      <td>/r/IsA</td>\n",
       "      <td>肉</td>\n",
       "      <td>zh</td>\n",
       "      <td>/c/zh/肉</td>\n",
       "      <td>1.000000</td>\n",
       "    </tr>\n",
       "  </tbody>\n",
       "</table>\n",
       "<p>113 rows × 6 columns</p>\n",
       "</div>"
      ],
      "text/plain": [
       "    key relation example language     concat     weight\n",
       "0    動物   /r/IsA       人       zh    /c/zh/人  15.362291\n",
       "1    動物   /r/IsA       貓       zh    /c/zh/貓  15.099669\n",
       "2    動物   /r/IsA       狗       zh    /c/zh/狗  14.696938\n",
       "3    動物   /r/IsA      小雞       zh   /c/zh/小雞  12.000000\n",
       "4    動物   /r/IsA      貓咪       zh   /c/zh/貓咪  10.000000\n",
       "..   ..      ...     ...      ...        ...        ...\n",
       "108  動物   /r/IsA     無尾熊       zh  /c/zh/無尾熊   1.000000\n",
       "109  動物   /r/IsA      女性       zh   /c/zh/女性   1.000000\n",
       "110  動物   /r/IsA     黃金鼠       zh  /c/zh/黃金鼠   1.000000\n",
       "111  動物   /r/IsA       你       zh    /c/zh/你   1.000000\n",
       "112  動物   /r/IsA       肉       zh    /c/zh/肉   1.000000\n",
       "\n",
       "[113 rows x 6 columns]"
      ]
     },
     "execution_count": 7,
     "metadata": {},
     "output_type": "execute_result"
    }
   ],
   "source": [
    "get_nodes('動物','zh','/r/IsA',limitation=1000)"
   ]
  },
  {
   "cell_type": "code",
   "execution_count": 8,
   "id": "9cc5dfd2-8fb3-4864-8632-f3be93eba1a1",
   "metadata": {
    "execution": {
     "iopub.execute_input": "2022-01-22T06:15:25.954301Z",
     "iopub.status.busy": "2022-01-22T06:15:25.953820Z",
     "iopub.status.idle": "2022-01-22T06:18:53.269888Z",
     "shell.execute_reply": "2022-01-22T06:18:53.269104Z",
     "shell.execute_reply.started": "2022-01-22T06:15:25.954266Z"
    },
    "scrolled": true
   },
   "outputs": [],
   "source": [
    "# 搜集全部pd\n",
    "rel = '/r/IsA'\n",
    "limitation = 1000\n",
    "\n",
    "zh_class_pd = pd.DataFrame()\n",
    "en_class_pd = pd.DataFrame()\n",
    "for line in dim_noun_list:\n",
    "    zh_pd = pd.DataFrame()\n",
    "    for key_zh in line['keys_zh']:\n",
    "        if len(keys_zh) < 1:\n",
    "            break\n",
    "        zh_pd_single = get_nodes(key_zh,'zh',rel,limitation=limitation)\n",
    "        zh_pd = pd.concat([zh_pd, zh_pd_single], axis=0)\n",
    "\n",
    "    en_pd = pd.DataFrame()\n",
    "    for key_en in line['keys_en']:\n",
    "        if len(key_en) < 1:\n",
    "            break\n",
    "        en_pd_single = get_nodes(key_en,'en',rel,limitation=limitation)\n",
    "        en_pd = pd.concat([en_pd, en_pd_single], axis=0)\n",
    "\n",
    "    zh_pd['class'] = line['class']\n",
    "    en_pd['class'] = line['class']\n",
    "\n",
    "    zh_class_pd = pd.concat([zh_class_pd, zh_pd], axis=0)\n",
    "    en_class_pd = pd.concat([en_class_pd, en_pd], axis=0)"
   ]
  },
  {
   "cell_type": "code",
   "execution_count": 9,
   "id": "4397fac7-8375-4e5d-a906-0e7d80c487ef",
   "metadata": {
    "execution": {
     "iopub.execute_input": "2022-01-22T06:31:07.695324Z",
     "iopub.status.busy": "2022-01-22T06:31:07.694827Z",
     "iopub.status.idle": "2022-01-22T06:31:07.710965Z",
     "shell.execute_reply": "2022-01-22T06:31:07.710324Z",
     "shell.execute_reply.started": "2022-01-22T06:31:07.695291Z"
    },
    "scrolled": true
   },
   "outputs": [
    {
     "name": "stdout",
     "output_type": "stream",
     "text": [
      "<class 'pandas.core.frame.DataFrame'>\n",
      "RangeIndex: 5801 entries, 0 to 5800\n",
      "Data columns (total 7 columns):\n",
      " #   Column    Non-Null Count  Dtype  \n",
      "---  ------    --------------  -----  \n",
      " 0   key       5801 non-null   object \n",
      " 1   relation  5801 non-null   object \n",
      " 2   example   5801 non-null   object \n",
      " 3   language  5801 non-null   object \n",
      " 4   concat    5801 non-null   object \n",
      " 5   weight    5801 non-null   float64\n",
      " 6   class     5801 non-null   object \n",
      "dtypes: float64(1), object(6)\n",
      "memory usage: 317.4+ KB\n"
     ]
    }
   ],
   "source": [
    "en_class_pd = en_class_pd[en_class_pd['language']=='en'].reset_index(drop=True)\n",
    "en_class_pd.info()"
   ]
  },
  {
   "cell_type": "code",
   "execution_count": 10,
   "id": "d51c82e8-1683-4ae8-898f-8ba49b85e977",
   "metadata": {
    "execution": {
     "iopub.execute_input": "2022-01-22T06:31:22.165617Z",
     "iopub.status.busy": "2022-01-22T06:31:22.165127Z",
     "iopub.status.idle": "2022-01-22T06:31:22.178091Z",
     "shell.execute_reply": "2022-01-22T06:31:22.177413Z",
     "shell.execute_reply.started": "2022-01-22T06:31:22.165582Z"
    },
    "scrolled": true
   },
   "outputs": [
    {
     "name": "stdout",
     "output_type": "stream",
     "text": [
      "<class 'pandas.core.frame.DataFrame'>\n",
      "RangeIndex: 1216 entries, 0 to 1215\n",
      "Data columns (total 7 columns):\n",
      " #   Column    Non-Null Count  Dtype  \n",
      "---  ------    --------------  -----  \n",
      " 0   key       1216 non-null   object \n",
      " 1   relation  1216 non-null   object \n",
      " 2   example   1216 non-null   object \n",
      " 3   language  1216 non-null   object \n",
      " 4   concat    1216 non-null   object \n",
      " 5   weight    1216 non-null   float64\n",
      " 6   class     1216 non-null   object \n",
      "dtypes: float64(1), object(6)\n",
      "memory usage: 66.6+ KB\n"
     ]
    }
   ],
   "source": [
    "zh_class_pd = zh_class_pd[zh_class_pd['language']=='zh'].reset_index(drop=True)\n",
    "zh_class_pd.info()"
   ]
  },
  {
   "cell_type": "code",
   "execution_count": 11,
   "id": "c387169e-19ca-443a-b7c2-5152d85c4020",
   "metadata": {
    "execution": {
     "iopub.execute_input": "2022-01-22T07:16:38.996265Z",
     "iopub.status.busy": "2022-01-22T07:16:38.995818Z",
     "iopub.status.idle": "2022-01-22T07:16:39.010235Z",
     "shell.execute_reply": "2022-01-22T07:16:39.009526Z",
     "shell.execute_reply.started": "2022-01-22T07:16:38.996215Z"
    },
    "scrolled": true
   },
   "outputs": [
    {
     "name": "stdout",
     "output_type": "stream",
     "text": [
      "<class 'pandas.core.frame.DataFrame'>\n",
      "Int64Index: 1147 entries, 0 to 1214\n",
      "Data columns (total 7 columns):\n",
      " #   Column    Non-Null Count  Dtype  \n",
      "---  ------    --------------  -----  \n",
      " 0   key       1147 non-null   object \n",
      " 1   relation  1147 non-null   object \n",
      " 2   example   1147 non-null   object \n",
      " 3   language  1147 non-null   object \n",
      " 4   concat    1147 non-null   object \n",
      " 5   weight    1147 non-null   float64\n",
      " 6   class     1147 non-null   object \n",
      "dtypes: float64(1), object(6)\n",
      "memory usage: 71.7+ KB\n"
     ]
    }
   ],
   "source": [
    "# 对中英文进行查重\n",
    "zh_class_uniq_pd = zh_class_pd.drop_duplicates(subset=['class', 'example'])\n",
    "zh_class_uniq_pd.info()"
   ]
  },
  {
   "cell_type": "code",
   "execution_count": 12,
   "id": "aa87e5ea-cfbd-481e-8cda-0a7b0a63ffdf",
   "metadata": {
    "execution": {
     "iopub.execute_input": "2022-01-22T07:18:00.368253Z",
     "iopub.status.busy": "2022-01-22T07:18:00.366308Z",
     "iopub.status.idle": "2022-01-22T07:18:00.383643Z",
     "shell.execute_reply": "2022-01-22T07:18:00.383056Z",
     "shell.execute_reply.started": "2022-01-22T07:18:00.368218Z"
    },
    "scrolled": true
   },
   "outputs": [
    {
     "name": "stdout",
     "output_type": "stream",
     "text": [
      "<class 'pandas.core.frame.DataFrame'>\n",
      "Int64Index: 5496 entries, 0 to 5797\n",
      "Data columns (total 7 columns):\n",
      " #   Column    Non-Null Count  Dtype  \n",
      "---  ------    --------------  -----  \n",
      " 0   key       5496 non-null   object \n",
      " 1   relation  5496 non-null   object \n",
      " 2   example   5496 non-null   object \n",
      " 3   language  5496 non-null   object \n",
      " 4   concat    5496 non-null   object \n",
      " 5   weight    5496 non-null   float64\n",
      " 6   class     5496 non-null   object \n",
      "dtypes: float64(1), object(6)\n",
      "memory usage: 343.5+ KB\n"
     ]
    }
   ],
   "source": [
    "en_class_uniq_pd = en_class_pd.drop_duplicates(subset=['class', 'example'])\n",
    "en_class_uniq_pd.info()"
   ]
  },
  {
   "cell_type": "code",
   "execution_count": 62,
   "id": "09a80594-72bd-4103-a437-2c9c8c054ab1",
   "metadata": {
    "execution": {
     "iopub.execute_input": "2022-01-22T07:19:02.168610Z",
     "iopub.status.busy": "2022-01-22T07:19:02.168189Z",
     "iopub.status.idle": "2022-01-22T07:19:04.918392Z",
     "shell.execute_reply": "2022-01-22T07:19:04.917540Z",
     "shell.execute_reply.started": "2022-01-22T07:19:02.168577Z"
    },
    "scrolled": true
   },
   "outputs": [
    {
     "name": "stdout",
     "output_type": "stream",
     "text": [
      "Looking in indexes: https://pypi.tuna.tsinghua.edu.cn/simple\n",
      "Requirement already satisfied: xlsxwriter in /opt/conda/envs/python35-paddle120-env/lib/python3.7/site-packages (3.0.2)\n"
     ]
    }
   ],
   "source": [
    "!pip install xlsxwriter\n",
    "import xlsxwriter\n",
    "\n",
    "zh_class_uniq_pd.to_excel('./zh_class_noun.xlsx', engine='xlsxwriter')\n",
    "en_class_uniq_pd.to_excel('./en_class_noun.xlsx', engine='xlsxwriter')"
   ]
  }
 ],
 "metadata": {
  "interpreter": {
   "hash": "40d3a090f54c6569ab1632332b64b2c03c39dcf918b08424e98f38b5ae0af88f"
  },
  "kernelspec": {
   "display_name": "Python 3",
   "language": "python",
   "name": "python3"
  },
  "language_info": {
   "codemirror_mode": {
    "name": "ipython",
    "version": 3
   },
   "file_extension": ".py",
   "mimetype": "text/x-python",
   "name": "python",
   "nbconvert_exporter": "python",
   "pygments_lexer": "ipython3",
   "version": "3.8.8"
  }
 },
 "nbformat": 4,
 "nbformat_minor": 5
}
