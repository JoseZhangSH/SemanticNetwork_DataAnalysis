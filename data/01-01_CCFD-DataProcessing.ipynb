{
 "cells": [
  {
   "cell_type": "code",
   "execution_count": 1,
   "metadata": {},
   "outputs": [],
   "source": [
    "# 数据处理\n",
    "import pandas as pd\n",
    "import numpy as np\n",
    "import json\n",
    "import csv\n",
    "import random\n",
    "import math\n",
    "from itertools import product\n",
    "\n",
    "\n",
    "# 网络分析与可视化\n",
    "import networkx as nx\n",
    "from pyvis import network as net\n",
    "import matplotlib.pyplot as plt\n",
    "import powerlaw # Power laws are probability distributions with the form:p(x)∝x−α"
   ]
  },
  {
   "cell_type": "code",
   "execution_count": 3,
   "metadata": {},
   "outputs": [],
   "source": [
    "# 导入完整的概念-特征网络\n",
    "\n",
    "# 导入concept-feature 连接数据\n",
    "df_rel_raw = pd.read_csv('00_Raw Data/All concepts and features.csv')\n",
    "\n",
    "# 导入concept 节点属性数据\n",
    "df_concept_info = pd.read_csv('00_Raw Data/CCFD_concept_info.csv')\n",
    "\n",
    "# join 成一张表\n",
    "df_complete = df_rel_raw.join(df_concept_info.set_index('Id'), on='Concept').drop([\"Unnamed: 4\", \"Label\", \"concept\", \"superior category\", \"subcategory\"], axis=1)\n"
   ]
  },
  {
   "cell_type": "markdown",
   "metadata": {},
   "source": [
    "## 指标计算"
   ]
  },
  {
   "cell_type": "code",
   "execution_count": null,
   "metadata": {},
   "outputs": [],
   "source": [
    "\n",
    "# 计算特征线索度：特征对某个概念的线索度 = 特征在概念下出现的频率 / 特征在所有概念下出现的频率总和\n",
    "cue_validities = []\n",
    "\n",
    "for row in df_complete.iterrows():\n",
    "    cue_validity = row[1]['Frequency'] / sum(list(df_complete[df_complete['Feature']==row[1]['Feature']]['Frequency']))\n",
    "    cue_validities.append(cue_validity)\n",
    "\n",
    "df_complete['cue_validity'] = cue_validities\n",
    "df_complete.head()\n",
    "\n",
    "\n",
    "# 计算范畴独有度\n",
    "categorical_distinctiveness = []\n",
    "\n",
    "for row in df_complete.iterrows():\n",
    "    distinctiveness_value = len(df_complete[(df_complete['上级类别']==row[1]['上级类别']) & (df_complete['Feature'] == row[1]['Feature'])]) / len(df_complete[df_complete['上级类别']==row[1]['上级类别']].Concept.unique()) \n",
    "    categorical_distinctiveness.append(distinctiveness_value)\n",
    "\n",
    "df_complete['categorical_distinctiveness'] = categorical_distinctiveness\n",
    "df_complete.head()"
   ]
  },
  {
   "cell_type": "code",
   "execution_count": null,
   "metadata": {},
   "outputs": [],
   "source": [
    "# 保存文件\n",
    "df_complete.to_csv('01_Processed Data/Complete-Data.csv',index=False)"
   ]
  }
 ],
 "metadata": {
  "interpreter": {
   "hash": "31f2aee4e71d21fbe5cf8b01ff0e069b9275f58929596ceb00d14d90e3e16cd6"
  },
  "kernelspec": {
   "display_name": "Python 3.8.9 64-bit",
   "language": "python",
   "name": "python3"
  },
  "language_info": {
   "codemirror_mode": {
    "name": "ipython",
    "version": 3
   },
   "file_extension": ".py",
   "mimetype": "text/x-python",
   "name": "python",
   "nbconvert_exporter": "python",
   "pygments_lexer": "ipython3",
   "version": "3.8.8"
  },
  "orig_nbformat": 4
 },
 "nbformat": 4,
 "nbformat_minor": 2
}
