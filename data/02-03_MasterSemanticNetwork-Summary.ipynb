{
 "cells": [
  {
   "cell_type": "code",
   "execution_count": 2,
   "metadata": {},
   "outputs": [],
   "source": [
    "# 数据处理\n",
    "import pandas as pd\n",
    "import numpy as np\n",
    "import json\n",
    "import csv\n",
    "import random\n",
    "import math\n",
    "from itertools import product\n",
    "\n",
    "\n",
    "# 网络分析与可视化\n",
    "import networkx as nx\n",
    "from networkx.readwrite import json_graph\n",
    "from pyvis import network as net\n",
    "import matplotlib.pyplot as plt\n",
    "import powerlaw # Power laws are probability distributions with the form:p(x)∝x−α"
   ]
  },
  {
   "cell_type": "code",
   "execution_count": 7,
   "metadata": {},
   "outputs": [],
   "source": [
    "with open('02_Graph/MasterConceptNetwork.json') as f:\n",
    "    js_graph = json.load(f)\n",
    "    G_MasterConceptNetwork = json_graph.node_link_graph(js_graph)\n",
    "\n",
    "df_concept_info = pd.read_csv('00_Raw Data/CCFD_concept_info.csv')"
   ]
  },
  {
   "cell_type": "code",
   "execution_count": 9,
   "metadata": {},
   "outputs": [],
   "source": [
    "# 查看全部节点在某个属性的所有选项\n",
    "def NodeAttributeValueList(G,attribute):\n",
    "    return set(np.array([G.nodes[n][attribute] for n in G.nodes]).flatten())\n"
   ]
  },
  {
   "cell_type": "code",
   "execution_count": 10,
   "metadata": {},
   "outputs": [],
   "source": [
    "# maincategory 和 subcategory 的列表\n",
    "maincategorys = NodeAttributeValueList(G_MasterConceptNetwork,'maincategory')\n",
    "subcategorys = NodeAttributeValueList(G_MasterConceptNetwork,'subcategory')"
   ]
  },
  {
   "cell_type": "code",
   "execution_count": 23,
   "metadata": {},
   "outputs": [
    {
     "data": {
      "text/plain": [
       "'人造物'"
      ]
     },
     "execution_count": 23,
     "metadata": {},
     "output_type": "execute_result"
    }
   ],
   "source": [
    "df_concept_info[df_concept_info['subcategory']==\"tool\"].上级类别.unique()[0]"
   ]
  },
  {
   "cell_type": "code",
   "execution_count": 24,
   "metadata": {},
   "outputs": [],
   "source": [
    "# 抽取subcategorys子图间的关联网络 Graph Summary for subcategorys\n",
    "G_Summary = nx.Graph()\n",
    "G_Summary.add_nodes_from(subcategorys)\n",
    "G_Summary.add_edges_from((a,b) for a,b in product(subcategorys,subcategorys) if a!=b)\n",
    "\n",
    "# add node count into each node\n",
    "for n,v in G_Summary.nodes(data=True):\n",
    "    v['count'] = len(df_concept_info[df_concept_info['下级类别']==n])\n",
    "    v['subcategory'] = n\n",
    "    # print(n)\n",
    "    v['maincategory'] = df_concept_info[df_concept_info['下级类别']==n].上级类别.unique()[0]\n",
    "\n",
    "\n",
    "# add edge weight into each edge\n",
    "for u,v,e in G_Summary.edges(data=True):\n",
    "    e['weight'] = 0\n",
    "\n",
    "for u,v,e in G_MasterConceptNetwork.edges(data=True):\n",
    "    u_subcategory = G_MasterConceptNetwork.nodes[u]['subcategory']\n",
    "    v_subcategory = G_MasterConceptNetwork.nodes[v]['subcategory']\n",
    "    if  u_subcategory!=v_subcategory:\n",
    "        G_Summary[u_subcategory][v_subcategory]['weight']+=e['weight']\n",
    "\n",
    "# 导出 for G6\n",
    "with open('02_Graph/MasterConceptNetwork_Summary_G6.json','w+') as f:\n",
    "    f.write(json.dumps(nx.node_link_data(G_Summary), ensure_ascii=False).replace('links','edges'))\n",
    "\n",
    "# with open('02_Graph/Wenyue/ConceptNetwork_Summary.json','w+') as f:\n",
    "#     f.write(json.dumps(nx.node_link_data(G_Summary), ensure_ascii=False))\n",
    "\n",
    "# 导出 for Gephi\n",
    "# nx.write_gexf(G_Summary, \"02_Graph/ConceptNetwork_Summary_CCFD-Similarity-Matrix_Weight-0.52.gexf\")"
   ]
  },
  {
   "cell_type": "code",
   "execution_count": null,
   "metadata": {},
   "outputs": [],
   "source": []
  }
 ],
 "metadata": {
  "interpreter": {
   "hash": "40d3a090f54c6569ab1632332b64b2c03c39dcf918b08424e98f38b5ae0af88f"
  },
  "kernelspec": {
   "display_name": "Python 3.8.8 ('base')",
   "language": "python",
   "name": "python3"
  },
  "language_info": {
   "codemirror_mode": {
    "name": "ipython",
    "version": 3
   },
   "file_extension": ".py",
   "mimetype": "text/x-python",
   "name": "python",
   "nbconvert_exporter": "python",
   "pygments_lexer": "ipython3",
   "version": "3.8.8"
  },
  "orig_nbformat": 4
 },
 "nbformat": 4,
 "nbformat_minor": 2
}
