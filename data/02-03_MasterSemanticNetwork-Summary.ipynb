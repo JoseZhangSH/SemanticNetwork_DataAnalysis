{
 "cells": [
  {
   "cell_type": "code",
   "execution_count": 2,
   "metadata": {},
   "outputs": [],
   "source": [
    "# 数据处理\n",
    "import pandas as pd\n",
    "import numpy as np\n",
    "import json\n",
    "import csv\n",
    "import random\n",
    "import math\n",
    "from itertools import product\n",
    "\n",
    "\n",
    "# 网络分析与可视化\n",
    "import networkx as nx\n",
    "from networkx.readwrite import json_graph\n",
    "from pyvis import network as net\n",
    "import matplotlib.pyplot as plt\n",
    "import powerlaw # Power laws are probability distributions with the form:p(x)∝x−α"
   ]
  },
  {
   "cell_type": "code",
   "execution_count": 3,
   "metadata": {},
   "outputs": [],
   "source": [
    "# with open('02_Graph/MasterConceptNetwork.json') as f:\n",
    "with open('02_Graph/MasterConceptNetwork_Word2Vec-0.62_Baseline-Test.json') as f:\n",
    "    js_graph = json.load(f)\n",
    "    G_MasterConceptNetwork = json_graph.node_link_graph(js_graph)\n",
    "\n",
    "df_concept_info = pd.read_csv('00_Raw Data/CCFD_concept_info.csv')"
   ]
  },
  {
   "cell_type": "code",
   "execution_count": 4,
   "metadata": {},
   "outputs": [],
   "source": [
    "# 查看全部节点在某个属性的所有选项\n",
    "def NodeAttributeValueList(G,attribute):\n",
    "    return set(np.array([G.nodes[n][attribute] for n in G.nodes]).flatten())\n"
   ]
  },
  {
   "cell_type": "code",
   "execution_count": 5,
   "metadata": {},
   "outputs": [],
   "source": [
    "# maincategory 和 subcategory 的列表\n",
    "maincategorys = NodeAttributeValueList(G_MasterConceptNetwork,'maincategory')\n",
    "subcategorys = NodeAttributeValueList(G_MasterConceptNetwork,'subcategory')"
   ]
  },
  {
   "cell_type": "code",
   "execution_count": 6,
   "metadata": {},
   "outputs": [
    {
     "data": {
      "text/plain": [
       "'人造物'"
      ]
     },
     "execution_count": 6,
     "metadata": {},
     "output_type": "execute_result"
    }
   ],
   "source": [
    "df_concept_info[df_concept_info['subcategory']==\"tool\"].上级类别.unique()[0]"
   ]
  },
  {
   "cell_type": "code",
   "execution_count": 7,
   "metadata": {},
   "outputs": [
    {
     "data": {
      "text/plain": [
       "{'subcategory': '电器',\n",
       " 'maincategory': '人造物',\n",
       " 'degree_centrality': 0.14285714285714285,\n",
       " 'pagerank': 0.21114613778073127,\n",
       " 'closeness_centrality': 0.6743004985478203,\n",
       " 'laplacian_centrality': 0.058206475291040775,\n",
       " 'clustering_coefficent': 0.2961939327089747,\n",
       " 'cluster': 2,\n",
       " 'forceAtalasX': 1729.2511,\n",
       " 'forceAtalasY': -2123.22,\n",
       " 'picture_naming_status': True,\n",
       " 'picture_naming_result': True,\n",
       " 'picture_naming_time': '2.00'}"
      ]
     },
     "execution_count": 7,
     "metadata": {},
     "output_type": "execute_result"
    }
   ],
   "source": [
    "G_MasterConceptNetwork.nodes['电池']"
   ]
  },
  {
   "cell_type": "code",
   "execution_count": 23,
   "metadata": {},
   "outputs": [
    {
     "data": {
      "text/plain": [
       "['爆米花', '冰棍', '饼干', '大米', '蛋糕', '方便面', '饺子', '馒头', '棉花糖', '奶酪']"
      ]
     },
     "execution_count": 23,
     "metadata": {},
     "output_type": "execute_result"
    }
   ],
   "source": [
    "\n",
    "# set(chain.from_iterable(list(d.keys()) for *_, d in G_MasterConceptNetwork.nodes(data=True)))\n",
    "\n",
    "\n",
    "\n",
    "    # G_MasterConceptNetwork.nodes[result['name']]['picture_naming_status'] = True\n"
   ]
  },
  {
   "cell_type": "code",
   "execution_count": null,
   "metadata": {},
   "outputs": [],
   "source": [
    "# 抽取subcategorys子图间的关联网络 Graph Summary for subcategorys\n",
    "G_Summary = nx.Graph()\n",
    "G_Summary.add_nodes_from(subcategorys)\n",
    "G_Summary.add_edges_from((a,b) for a,b in product(subcategorys,subcategorys) if a!=b)\n",
    "\n",
    "# add node count into each node\n",
    "for n,v in G_Summary.nodes(data=True):\n",
    "    # print(n)\n",
    "    v['count'] = len(df_concept_info[df_concept_info['下级类别']==n])\n",
    "    v['subcategory'] = n\n",
    "    v['maincategory'] = df_concept_info[df_concept_info['下级类别']==n].上级类别.unique()[0]\n",
    "    v['picture_naming_tested'] = len([x for x,y in G_MasterConceptNetwork.nodes(data=True) if y['subcategory']==n and 'picture_naming_status' in y.keys() and y['picture_naming_status']==True])\n",
    "    v['picture_naming_successed'] = len([x for x,y in G_MasterConceptNetwork.nodes(data=True) if y['subcategory']==n and 'picture_naming_result' in y.keys() and y['picture_naming_result']==True])\n",
    "\n",
    "# add edge weight into each edge\n",
    "for u,v,e in G_Summary.edges(data=True):\n",
    "    e['weight'] = 0\n",
    "\n",
    "for u,v,e in G_MasterConceptNetwork.edges(data=True):\n",
    "    u_subcategory = G_MasterConceptNetwork.nodes[u]['subcategory']\n",
    "    v_subcategory = G_MasterConceptNetwork.nodes[v]['subcategory']\n",
    "    if  u_subcategory!=v_subcategory:\n",
    "        G_Summary[u_subcategory][v_subcategory]['weight']+=e['weight']\n",
    "\n",
    "removelist = []\n",
    "for u,v,e in G_Summary.edges(data=True):\n",
    "    if e['weight'] < 5.9:\n",
    "        removelist.append([u,v])\n",
    "\n",
    "for item in removelist:\n",
    "    G_Summary.remove_edge(item[0],item[1])\n",
    "\n",
    "# 导出 for G6\n",
    "# with open('02_Graph/MasterConceptNetwork_Summary_G6.json','w+') as f:\n",
    "with open('02_Graph/MasterConceptNetwork_Word2Vec-0.62_Baseline-Test_Summary-Subcategory_G6.json','w+') as f:\n",
    "    f.write(json.dumps(nx.node_link_data(G_Summary), ensure_ascii=False).replace('links','edges'))\n",
    "\n",
    "# with open('02_Graph/Wenyue/ConceptNetwork_Summary.json','w+') as f:\n",
    "#     f.write(json.dumps(nx.node_link_data(G_Summary), ensure_ascii=False))\n",
    "\n",
    "# 导出 for Gephi\n",
    "# nx.write_gexf(G_Summary, \"02_Graph/ConceptNetwork_Summary_CCFD-Similarity-Matrix_Weight-0.52.gexf\")"
   ]
  },
  {
   "cell_type": "code",
   "execution_count": 9,
   "metadata": {},
   "outputs": [],
   "source": [
    "# 抽取maincategorys子图间的关联网络 Graph Summary for 抽取maincategorys子图间的关联网络\n",
    "G_Summary = nx.Graph()\n",
    "G_Summary.add_nodes_from(maincategorys)\n",
    "G_Summary.add_edges_from((a,b) for a,b in product(maincategorys,maincategorys) if a!=b)\n",
    "\n",
    "# add node count into each node\n",
    "for n,v in G_Summary.nodes(data=True):\n",
    "    # print(n)\n",
    "    v['count'] = len(df_concept_info[df_concept_info['上级类别']==n])\n",
    "    v['maincategory'] = n\n",
    "    # v['maincategory'] = df_concept_info[df_concept_info['上级类别']==n].上级类别.unique()[0]\n",
    "    v['picture_naming_tested'] = len([x for x,y in G_MasterConceptNetwork.nodes(data=True) if y['maincategory']==n and 'picture_naming_status' in y.keys() and y['picture_naming_status']==True])\n",
    "    v['picture_naming_successed'] = len([x for x,y in G_MasterConceptNetwork.nodes(data=True) if y['maincategory']==n and 'picture_naming_result' in y.keys() and y['picture_naming_result']==True])\n",
    "\n",
    "# add edge weight into each edge\n",
    "for u,v,e in G_Summary.edges(data=True):\n",
    "    e['weight'] = 0\n",
    "\n",
    "for u,v,e in G_MasterConceptNetwork.edges(data=True):\n",
    "    u_maincategory = G_MasterConceptNetwork.nodes[u]['maincategory']\n",
    "    v_maincategory = G_MasterConceptNetwork.nodes[v]['maincategory']\n",
    "    if  u_maincategory!=v_maincategory:\n",
    "        G_Summary[u_maincategory][v_maincategory]['weight']+=e['weight']\n",
    "\n",
    "removelist = []\n",
    "for u,v,e in G_Summary.edges(data=True):\n",
    "    if e['weight'] < 5.9:\n",
    "        removelist.append([u,v])\n",
    "\n",
    "for item in removelist:\n",
    "    G_Summary.remove_edge(item[0],item[1])\n",
    "\n",
    "# 导出 for G6\n",
    "# with open('02_Graph/MasterConceptNetwork_Summary_G6.json','w+') as f:\n",
    "with open('02_Graph/MasterConceptNetwork_Word2Vec-0.62_Baseline-Test_Summary-Maincategory_G6.json','w+') as f:\n",
    "    f.write(json.dumps(nx.node_link_data(G_Summary), ensure_ascii=False).replace('links','edges'))\n",
    "\n",
    "# with open('02_Graph/Wenyue/ConceptNetwork_Summary.json','w+') as f:\n",
    "#     f.write(json.dumps(nx.node_link_data(G_Summary), ensure_ascii=False))\n",
    "\n",
    "# 导出 for Gephi\n",
    "# nx.write_gexf(G_Summary, \"02_Graph/ConceptNetwork_Summary_CCFD-Similarity-Matrix_Weight-0.52.gexf\")"
   ]
  },
  {
   "cell_type": "code",
   "execution_count": null,
   "metadata": {},
   "outputs": [],
   "source": []
  }
 ],
 "metadata": {
  "interpreter": {
   "hash": "40d3a090f54c6569ab1632332b64b2c03c39dcf918b08424e98f38b5ae0af88f"
  },
  "kernelspec": {
   "display_name": "Python 3.8.8 ('base')",
   "language": "python",
   "name": "python3"
  },
  "language_info": {
   "codemirror_mode": {
    "name": "ipython",
    "version": 3
   },
   "file_extension": ".py",
   "mimetype": "text/x-python",
   "name": "python",
   "nbconvert_exporter": "python",
   "pygments_lexer": "ipython3",
   "version": "3.8.8"
  },
  "orig_nbformat": 4
 },
 "nbformat": 4,
 "nbformat_minor": 2
}
